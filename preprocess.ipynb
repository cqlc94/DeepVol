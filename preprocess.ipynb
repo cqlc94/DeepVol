{
 "cells": [
  {
   "cell_type": "code",
   "execution_count": 2,
   "metadata": {},
   "outputs": [],
   "source": [
    "# Standard\n",
    "import pickle\n",
    "import numpy as np\n",
    "import pandas as pd\n",
    "import matplotlib.pyplot as plt\n",
    "import seaborn as sns\n",
    "from arch.univariate import GARCH, ConstantMean, Normal\n",
    "\n",
    "# Custom\n",
    "from lib.preprocessing import get_valid_df, build_data_dict_from_df, build_data_dict_from_arr\n",
    "\n",
    "# Spec\n",
    "split_date_list = pd.to_datetime(['2014-01-01', '2020-01-01', '2022-01-01'])"
   ]
  },
  {
   "cell_type": "markdown",
   "metadata": {},
   "source": [
    "# Preprocess Refinitv"
   ]
  },
  {
   "cell_type": "code",
   "execution_count": 3,
   "metadata": {},
   "outputs": [],
   "source": [
    "# Load data\n",
    "dataset = '18k_stock'\n",
    "df_list = pickle.load(open(f'data/cdm/{dataset}.pkl', 'rb'))\n",
    "if dataset == '500_fx': df_list = [df for df in df_list if 'MID_PRICE' in df.columns]\n",
    "\n",
    "df_list_valid = [get_valid_df(df, split_date_list) for df in df_list]\n",
    "df_list_valid = [df for df in df_list_valid if df is not None]\n",
    "\n",
    "# shuffle \n",
    "np.random.seed(0)\n",
    "np.random.shuffle(df_list_valid)\n",
    "\n",
    "pickle.dump(df_list_valid, open(f'data/source/{dataset}.pkl', 'wb'))"
   ]
  },
  {
   "cell_type": "markdown",
   "metadata": {},
   "source": [
    "# GARCH Simulation"
   ]
  },
  {
   "cell_type": "code",
   "execution_count": 28,
   "metadata": {},
   "outputs": [],
   "source": [
    "def sample_parameters(alpha_max=0.4):\n",
    "    omega = np.random.uniform(0.01, 0.10)\n",
    "    alpha = np.random.uniform(0.1, alpha_max)\n",
    "    beta = np.random.uniform(1-alpha_max, 1-alpha) \n",
    "    return np.array([omega, alpha, beta]).reshape(1, -1)"
   ]
  },
  {
   "cell_type": "code",
   "execution_count": null,
   "metadata": {},
   "outputs": [],
   "source": [
    "# Simulate GARCH parameters\n",
    "np.random.seed(0)\n",
    "N = int(2e5)\n",
    "params = np.zeros((N, 4))\n",
    "\n",
    "for i in range(N):\n",
    "    omega = np.random.uniform(0.01, 0.10)\n",
    "    alpha = np.random.uniform(0.1, 0.3)\n",
    "    beta = np.random.uniform(0.7, 1-alpha)  \n",
    "    params[i] = 0, omega, alpha, beta\n",
    "\n",
    "\n",
    "# Simulate GARCH series\n",
    "n_obs = 4000\n",
    "simulated_data = np.zeros((params.shape[0], n_obs, 2), dtype=np.float32)\n",
    "\n",
    "dist = Normal(seed=0)\n",
    "for i in range(params.shape[0]):\n",
    "    vol = GARCH(p=1, o=0, q=1)\n",
    "    repro_mod = ConstantMean(None, volatility=vol, distribution=dist)\n",
    "    simulated_data[i] = repro_mod.simulate(params[i], n_obs).values[:, :2]\n",
    "\n",
    "pickle.dump(simulated_data[:110000], open('data/source/110k_garch.pkl', 'wb'))\n",
    "pickle.dump(params[:110000], open('data/source//110k_garch_params.pkl', 'wb'))"
   ]
  },
  {
   "cell_type": "markdown",
   "metadata": {},
   "source": [
    "# Convert to tensor"
   ]
  },
  {
   "cell_type": "code",
   "execution_count": 3,
   "metadata": {},
   "outputs": [],
   "source": [
    "fx_list = pickle.load(open('data/source/500_fx.pkl', 'rb'))\n",
    "fx_dict = build_data_dict_from_df(fx_list, split_date_list)\n",
    "pickle.dump(fx_dict, open('data/training/500_fx.pkl', 'wb'))\n",
    "\n",
    "stock_list = pickle.load(open('data/source/18k_stock.pkl', 'rb'))\n",
    "stock_dict = build_data_dict_from_df(stock_list, split_date_list)\n",
    "pickle.dump(stock_dict, open('data/training/18k_stock.pkl', 'wb'))\n",
    "\n",
    "garch_arr = pickle.load(open('data/source/110k_garch.pkl', 'rb'))\n",
    "garch_dict = build_data_dict_from_arr(garch_arr)\n",
    "pickle.dump(garch_dict, open('data/training/110k_garch.pkl', 'wb'))"
   ]
  }
 ],
 "metadata": {
  "kernelspec": {
   "display_name": "base",
   "language": "python",
   "name": "python3"
  },
  "language_info": {
   "codemirror_mode": {
    "name": "ipython",
    "version": 3
   },
   "file_extension": ".py",
   "mimetype": "text/x-python",
   "name": "python",
   "nbconvert_exporter": "python",
   "pygments_lexer": "ipython3",
   "version": "3.11.8"
  }
 },
 "nbformat": 4,
 "nbformat_minor": 2
}
